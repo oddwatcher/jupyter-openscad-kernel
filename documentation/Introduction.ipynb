{
 "cells": [
  {
   "cell_type": "markdown",
   "metadata": {},
   "source": [
    "# An OpenSCAD Kernel in Jupyter\n",
    "\n",
    "I was missing a Jupyter Kernel for OpenSCAD. So I took up the challenge and here is the result.  \n",
    "\n",
    "Any code in a regular a cell is added to the overall SCAD code. This allows you to build up a OpenSCAD model in multiple steps using Jupyter cells and document your design process along the way.\n",
    "\n",
    "## Magic Commands\n",
    "\n",
    "The kernel supports the following \"magic\" commands:\n",
    "- __%lsmagic__: Lists all magic commands\n",
    "- __%clear__: Clears the OpenSCAD Code in the current memory\n",
    "- __%command <command>__: Defines the converter which translates the OpenSCAD code to the diplay format. The default value is openscad\n",
    "- __%display <scad code>__: Adds some display code which is relevant for the cell only. One line only\n",
    "- __%%display <scad code>__: Adds multple lines of OpenSCAD code which is relevant for the current cell only.\n",
    "- __%displayCode__: Displays the current OpenSCAD code\n",
    "- __%mime <mime>__: Defines the mime code which is used to render the content\n",
    "- __%include <url>__: Adds the OpenSCAD code from a URL\n",
    "- __%saveAs <fileName>__: Converts the the OpenSCAD into a output format and saves the result in a file.\n",
    "    \n",
    "%lsmagic provides an overview of all supported magic commands"
   ]
  },
  {
   "cell_type": "code",
   "execution_count": null,
   "metadata": {},
   "outputs": [],
   "source": [
    "%lsmagic "
   ]
  },
  {
   "cell_type": "markdown",
   "metadata": {},
   "source": [
    "The %clear command is resetting the internal OpenSCAD code. We recommend that you start your workspace with it so that you start from an empty state if you call 'Run All Cells'."
   ]
  },
  {
   "cell_type": "code",
   "execution_count": null,
   "metadata": {},
   "outputs": [],
   "source": [
    "%clear"
   ]
  },
  {
   "cell_type": "markdown",
   "metadata": {},
   "source": [
    "We use a command line command to convert the scad code to 2d or 3d output. By default this is openscad"
   ]
  },
  {
   "cell_type": "code",
   "execution_count": null,
   "metadata": {},
   "outputs": [],
   "source": [
    "%command "
   ]
  },
  {
   "cell_type": "markdown",
   "metadata": {},
   "source": [
    "If you have openjcad installed you can use this instead"
   ]
  },
  {
   "cell_type": "code",
   "execution_count": null,
   "metadata": {},
   "outputs": [],
   "source": [
    "%command openjscad"
   ]
  },
  {
   "cell_type": "markdown",
   "metadata": {},
   "source": [
    "...but we want to keep openscad so we switch back to it. "
   ]
  },
  {
   "cell_type": "code",
   "execution_count": null,
   "metadata": {},
   "outputs": [],
   "source": [
    "%command xvfb-run openscad \n"
   ]
  },
  {
   "cell_type": "code",
   "execution_count": null,
   "metadata": {},
   "outputs": [],
   "source": [
    "%clear"
   ]
  },
  {
   "cell_type": "markdown",
   "metadata": {},
   "source": [
    "## Display\n",
    "You might want to display some SCAD code only temporarily e.g. to demonstrate some failed approaches.  This can be be achieved with thel help of the %%display command at the beginning of the section. \n",
    "\n",
    "All code which comes after the %%display command is only relevant for the current cell and will be discarded by the other cells.\n"
   ]
  },
  {
   "cell_type": "code",
   "execution_count": null,
   "metadata": {},
   "outputs": [],
   "source": [
    "%%display\n",
    "\n",
    "union() {\n",
    "     cube(size = [2,1,1], center = true);\n",
    "     cube(size = [1,1,2], center = true);\n",
    "}     \n"
   ]
  },
  {
   "cell_type": "markdown",
   "metadata": {},
   "source": [
    "When you just add some code - it is added to the memory which is available in all cells."
   ]
  },
  {
   "cell_type": "code",
   "execution_count": null,
   "metadata": {},
   "outputs": [],
   "source": [
    "module test() {\n",
    "    cube([1,2,3], center = true);\n",
    "}\n"
   ]
  },
  {
   "cell_type": "markdown",
   "metadata": {},
   "source": [
    "If you want to render the content you can do this by calling %diplay \n"
   ]
  },
  {
   "cell_type": "code",
   "execution_count": null,
   "metadata": {},
   "outputs": [],
   "source": [
    "module test1() {\n",
    "    union() {\n",
    "        cube([3,2,1], center = true);\n",
    "        test();\n",
    "    }\n",
    "}\n",
    "\n",
    "%display test1();"
   ]
  },
  {
   "cell_type": "markdown",
   "metadata": {},
   "source": [
    "## Mime\n",
    "You can also define the output mime type which whill be used to render the content. The most important ones are\n",
    "- text/plain\n",
    "- image/png\n",
    "- model/stl\n",
    "\n",
    "The default setting is image/png"
   ]
  },
  {
   "cell_type": "code",
   "execution_count": null,
   "metadata": {},
   "outputs": [],
   "source": [
    "%mime"
   ]
  },
  {
   "cell_type": "markdown",
   "metadata": {},
   "source": [
    "If you want to display your Scad Code  which has been defined in the current buffer (and not an image or 3D model) - you can set the mime to text/plain"
   ]
  },
  {
   "cell_type": "code",
   "execution_count": null,
   "metadata": {},
   "outputs": [],
   "source": [
    "%mime text/plain\n"
   ]
  },
  {
   "cell_type": "code",
   "execution_count": null,
   "metadata": {},
   "outputs": [],
   "source": [
    "%display"
   ]
  },
  {
   "cell_type": "markdown",
   "metadata": {},
   "source": [
    "## Include\n",
    "You can also include some SCAD code with the help of an URL"
   ]
  },
  {
   "cell_type": "code",
   "execution_count": null,
   "metadata": {},
   "outputs": [],
   "source": [
    "%mime image/png\n",
    "%include https://raw.githubusercontent.com/pschatzmann/openscad-models/master/Pig.scad\n",
    "\n",
    "%display"
   ]
  },
  {
   "cell_type": "markdown",
   "metadata": {},
   "source": [
    "## SaveAs\n",
    "Finally you can save your result in a file. The file extension is used to determine the file type automaticlly. [The supported file types can be found in the OpenSCAD documentation](https://en.wikibooks.org/wiki/OpenSCAD_User_Manual/STL_Export)."
   ]
  },
  {
   "cell_type": "code",
   "execution_count": null,
   "metadata": {},
   "outputs": [],
   "source": [
    "%saveAs pig.stl"
   ]
  },
  {
   "cell_type": "code",
   "execution_count": null,
   "metadata": {},
   "outputs": [],
   "source": []
  }
 ],
 "metadata": {
  "kernelspec": {
   "display_name": "OpenSCAD",
   "language": "application-xopenscad",
   "name": "openscad"
  },
  "language_info": {
   "codemirror_mode": {
    "name": "ipython",
    "version": 3
   },
   "file_extension": ".py",
   "mimetype": "text/x-python",
   "name": "python",
   "nbconvert_exporter": "python",
   "pygments_lexer": "ipython3",
   "version": "3.7.6"
  },
  "widgets": {
   "application/vnd.jupyter.widget-state+json": {
    "state": {},
    "version_major": 2,
    "version_minor": 0
   }
  }
 },
 "nbformat": 4,
 "nbformat_minor": 4
}